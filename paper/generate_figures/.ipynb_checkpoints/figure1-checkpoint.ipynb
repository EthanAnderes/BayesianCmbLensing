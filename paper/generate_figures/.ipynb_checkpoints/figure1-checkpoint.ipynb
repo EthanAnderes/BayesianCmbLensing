{
 "metadata": {
  "language": "Julia",
  "name": "",
  "signature": "sha256:b62e4839aebb8bbd4b1b9b50e2936cac30334e141af9543f21454e2ebdb931ea"
 },
 "nbformat": 3,
 "nbformat_minor": 0,
 "worksheets": [
  {
   "cells": [
    {
     "cell_type": "markdown",
     "metadata": {},
     "source": [
      "Generate figure 1 which shows the two parameter gibbs toy model\n",
      "===================================================== "
     ]
    },
    {
     "cell_type": "code",
     "collapsed": false,
     "input": [
      "using PyPlot\n",
      "srcpath  = \"/Users/ethananderes/Dropbox/BayesLense/src/\"\n",
      "savepath = \"/Users/ethananderes/Google\\ Drive/BayesLenseRev1/paper_rev2/\"\n",
      "seed = 2\n",
      "srand(seed)"
     ],
     "language": "python",
     "metadata": {},
     "outputs": []
    },
    {
     "cell_type": "markdown",
     "metadata": {},
     "source": [
      "Set up the Gibbs chain\n",
      "------------------------------------------"
     ]
    },
    {
     "cell_type": "code",
     "collapsed": false,
     "input": [
      "rho = -0.99\n",
      "sigma1 = [1 rho; rho 1]\n",
      "sigmainv1 = inv(sigma1)\n",
      "sigmainv2 = [1 0;-1 1]* sigmainv1 * [1 -1;0 1]\n",
      "sigma2 = inv(sigmainv2)\n",
      "pdfimag1(x) = (1/ (2 * pi)) * sqrt(det(sigmainv1)) * exp(-0.5 * (transpose(x) * sigmainv1 * x)[1]) \n",
      "pdfimag2(x) = (1/ (2 * pi)) * sqrt(det(sigmainv2)) * exp(-0.5 * (transpose(x) * sigmainv2 * x)[1])\n",
      "\n",
      "xlim = 2.0\n",
      "space = 0.01\n",
      "gridpoints = Array{Float64,1}[[x,y] for x=(-xlim):space:xlim, y=(-xlim):space:xlim] #|> transpose |> flipud\n",
      "imag1 = map(pdfimag1, gridpoints)\n",
      "imag2 = map(pdfimag2, gridpoints)\n",
      "\n",
      "sum(imag1 * ^(space,2))\n",
      "function findContours(density, gridarea, probvec)\n",
      "\thts = Float64[]\n",
      "\tprb = Float64[]\n",
      "\tfor dh in density[1:50:end]\n",
      "\t\tpush!(hts, dh)\n",
      "\t\tpush!(prb, sum( gridarea*density[density .> dh] ))\n",
      "\tend\n",
      "\tanswr = Float64[]\n",
      "\tfor k in probvec\n",
      "\t\ttoss, index = findmin(abs(prb .- k))\n",
      "\t\tpush!(answr, hts[index])\n",
      "\tend\n",
      "\tanswr\n",
      "end"
     ],
     "language": "python",
     "metadata": {},
     "outputs": []
    },
    {
     "cell_type": "markdown",
     "metadata": {},
     "source": [
      "Run the chain for 20 steps\n",
      "------------------------------------------"
     ]
    },
    {
     "cell_type": "code",
     "collapsed": false,
     "input": [
      "thetachain1 = [0.0]\n",
      "phichain1 = [0.0]\n",
      "for k = 1:20\n",
      "  push!(thetachain1, sigma1[1,2] * phichain1[end] * sqrt(sigma1[1,1] / sigma1[2,2]) + randn() * sqrt(1-sigma1[1,2]^2) * sqrt(sigma1[1,1]) )\n",
      "  push!(phichain1, phichain1[end])\n",
      "  push!(phichain1,  sigma1[1,2] * thetachain1[end] * sqrt(sigma1[2,2] / sigma1[1,1]) + randn() * sqrt(1-sigma1[1,2]^2) * sqrt(sigma1[2,2]) )\n",
      "  push!(thetachain1, thetachain1[end])\n",
      "end \n",
      "\n",
      "tildethetachain2 = [0.0]\n",
      "phichain2 = [0.0]\n",
      "for k = 1:20\n",
      "  push!(tildethetachain2, sigma2[1,2] * phichain2[end] * sqrt(sigma2[1,1] / sigma2[2,2]) + randn() * sqrt(1-sigma2[1,2]^2) * sqrt(sigma2[1,1]) )\n",
      "  push!(phichain2, phichain2[end])\n",
      "  push!(phichain2,  sigma2[1,2] * tildethetachain2[end] * sqrt(sigma2[2,2] / sigma2[1,1]) + randn() * sqrt(1-sigma2[1,2]^2) * sqrt(sigma2[2,2]) )\n",
      "  push!(tildethetachain2, tildethetachain2[end])\n",
      "end \n",
      "\n",
      "probvec = [.5, .85]\n",
      "cnt1 =  findContours(imag1, space^2, probvec)\n",
      "cnt2 =  findContours(imag2, space^2, probvec)"
     ],
     "language": "python",
     "metadata": {},
     "outputs": []
    },
    {
     "cell_type": "markdown",
     "metadata": {},
     "source": [
      "figure1a.pdf\n",
      "------------------------------------------"
     ]
    },
    {
     "cell_type": "code",
     "collapsed": false,
     "input": [
      "contour(imag1, \n",
      "\tlevels = cnt1, \n",
      "\torigin= \"lower\", \n",
      "\textent=[-2.5,2.5,-2.5,2.5], \n",
      "\tcolors=\"k\", \n",
      "\tlinewidth=1.5, \n",
      "\tlabel=L\"$P(t, \\varphi|data)$\"\n",
      "\t)\n",
      "plot(phichain1,thetachain1, linewidth=1.5)\n",
      "ax = gca()\n",
      "ax[:spines][\"right\"][:set_color](\"none\")\n",
      "ax[:spines][\"top\"][:set_color](\"none\")\n",
      "ax[:xaxis][:set_ticks_position](\"bottom\")\n",
      "ax[:spines][\"bottom\"][:set_position]((\"data\",0))\n",
      "ax[:yaxis][:set_ticks_position](\"left\")\n",
      "ax[:spines][\"left\"][:set_position]((\"data\",0))\n",
      "ax[:text](0.6, 0.6, L\"$P$ $(t, \\varphi|data)$\", fontsize=27)\n",
      "xticks([-2,-1,1,2], fontsize = 15)\n",
      "yticks([-2,-1,1,2], fontsize = 15)\n",
      "savefig(joinpath(savepath, \"figure1a.pdf\"), dpi=300, bbox_inches=\"tight\", pad_inches=0)"
     ],
     "language": "python",
     "metadata": {},
     "outputs": []
    },
    {
     "cell_type": "markdown",
     "metadata": {},
     "source": [
      "figure1b.pdf\n",
      "------------------------------------------"
     ]
    },
    {
     "cell_type": "code",
     "collapsed": false,
     "input": [
      "contour(imag2, levels = cnt2, origin= \"lower\", extent=[-2.5,2.5,-2.5,2.5], colors=\"k\", linewidth=1.5)\n",
      "xlabel(L\"$\\varphi$\", fontsize = 28),\n",
      "ylabel(L\"$\\widetilde{t}$\", fontsize = 28)\n",
      "plot(phichain2, tildethetachain2, linewidth=1.5)\n",
      "ax = gca()\n",
      "ax[:spines][\"right\"][:set_color](\"none\")\n",
      "ax[:spines][\"top\"][:set_color](\"none\")\n",
      "ax[:xaxis][:set_ticks_position](\"bottom\")\n",
      "ax[:spines][\"bottom\"][:set_position]((\"data\",0))\n",
      "ax[:yaxis][:set_ticks_position](\"left\")\n",
      "ax[:spines][\"left\"][:set_position]((\"data\",0))\n",
      "ax[:text](0.7, 0.7, L\"$P$ $(\\widetilde{t}, \\varphi|data)$\", fontsize=27)\n",
      "xticks([-2,-1,1,2], fontsize = 15)\n",
      "yticks([-2,-1,1,2], fontsize = 15)\n",
      "savefig(joinpath(savepath, \"figure1b.pdf\"), dpi=300, bbox_inches=\"tight\", pad_inches=0)"
     ],
     "language": "python",
     "metadata": {},
     "outputs": []
    }
   ],
   "metadata": {}
  }
 ]
}