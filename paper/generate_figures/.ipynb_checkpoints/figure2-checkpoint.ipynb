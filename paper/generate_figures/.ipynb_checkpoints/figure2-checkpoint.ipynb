{
    "nbformat": 3, 
    "nbformat_minor": 0, 
    "worksheets": [
        {
            "cells": [
                {
                    "source": "Generate figure 2 which the difference between anti-lensing and inverse lensing\n===================================================== ", 
                    "cell_type": "markdown", 
                    "metadata": {}
                }, 
                {
                    "source": "Load packages. Set grid etc.\n----------------------------------------------------- ", 
                    "cell_type": "markdown", 
                    "metadata": {}
                }, 
                {
                    "cell_type": "code", 
                    "language": "julia", 
                    "input": "srcpath  = \"/Users/ethananderes/Dropbox/BayesLense/src/\"\nsavepath = \"/Users/ethananderes/Google\\ Drive/BayesLenseRev1/paper_rev2/\"\n\ninclude(srcpath*\"Interp.jl\")\ninclude(srcpath*\"cmb.jl\")\ninclude(srcpath*\"fft.jl\")\n\nusing PyPlot, PyCall, Interp\n@pyimport scipy.interpolate as scii\n\nseed = 1\nsrand(seed)\n\nparlr = setpar(2.0, 2^9,  0, 0, 3000, 600, srcpath);\nparhr = setpar(0.5, 2^11, 0, 0, 3000, 600, srcpath);", 
                    "outputs": [], 
                    "collapsed": false, 
                    "metadata": {}
                }, 
                {
                    "source": "Simulate the lensing potential, define functions\n-----------------------------------------------", 
                    "cell_type": "markdown", 
                    "metadata": {}
                }, 
                {
                    "cell_type": "code", 
                    "language": "julia", 
                    "input": "phik   = fft2(randn(size(parhr.grd.x))./parhr.grd.deltx, parhr) .* sqrt(parhr.cPP)\nphix   = ifft2r(phik, parhr.grd.deltk)\nphidx1 = ifft2r(im .* parhr.grd.k1 .* phik, parhr)\nphidx2 = ifft2r(im .* parhr.grd.k2 .* phik, parhr)    \n\nfunction griddata(x::Matrix, y::Matrix, z::Matrix, xi::Matrix,yi::Matrix)\n\txpd, ypd = Interp.perodic_padd_xy(x, y, 0.1)\n\tzpd = Interp.perodic_padd_z(z, 0.1)\n\tpoints = [xpd[:] ypd[:]]\n\t# grid = (vec(xi[1,:]), vec(yi[:,1]))\n\tgrid = (xi, yi)\n\tzi = scii.griddata(points, zpd[:], grid, method = \"cubic\")\nend\n\nlensex = parhr.grd.x + phidx1\nlensey = parhr.grd.y + phidx2\nantix_dsp = griddata(\n\tlensex, \n\tlensey,\n\t-phidx1, \n\tparlr.grd.x, \n\tparlr.grd.y\n)\nantiy_dsp = griddata(\n\tlensex, \n\tlensey,\n\t-phidx2, \n\tparlr.grd.x, \n\tparlr.grd.y\n)\n\nfunction helmholtz(ax::Matrix, bx::Matrix, par::SpectrumGrids)\n\t# (ax,bx) is the vector field defined in pixel space\n\tak, bk = fft2(ax, par), fft2(bx, par)\n\tk\u2081, k\u2082 = par.grd.k1, par.grd.k2\n\tadk = (k\u2081./k\u2082) .* ((k\u2081./k\u2082) .* ak + bk) ./ ((k\u2081./k\u2082).^2 .+ 1) # curl free pat\n\tack = ak - adk \n\tdivk = adk ./ ( im * k\u2081)\n\tcrlk = ack ./ (-im * k\u2082) \n\tdivk[par.grd.k1 .== 0.0] = bk[par.grd.k1 .== 0.0] ./ ( im * k\u2082[par.grd.k1 .== 0.0])\n\tdivk[par.grd.k2 .== 0.0] = ak[par.grd.k2 .== 0.0] ./ ( im * k\u2081[par.grd.k2 .== 0.0])\n\tcrlk[par.grd.k1 .== 0.0] = ak[par.grd.k1 .== 0.0] ./ (-im * k\u2082[par.grd.k1 .== 0.0])\n\tcrlk[par.grd.k2 .== 0.0] = bk[par.grd.k2 .== 0.0] ./ ( im * k\u2081[par.grd.k2 .== 0.0])\n\tdivk[par.grd.r .<= 0.0] = 0.0\n\tcrlk[par.grd.r .<= 0.0] = 0.0\n\tdivx, crlx = ifft2r(divk, par), ifft2r(crlk, par)\n\tdivx, divk, crlx, crlk\nend\ndivx, divk, crlx, crlk = helmholtz(antix_dsp, antiy_dsp, parlr)", 
                    "outputs": [], 
                    "collapsed": false, 
                    "metadata": {}
                }, 
                {
                    "source": "figure2a.pdf\n-----------------------------------", 
                    "cell_type": "markdown", 
                    "metadata": {}
                }, 
                {
                    "cell_type": "code", 
                    "language": "julia", 
                    "input": "imshow(\n  -phix[1:4:end, 1:4:end],\n  interpolation = \"nearest\",\n  origin=\"lower\",\n  extent=(180/pi)*[minimum(parlr.grd.x), maximum(parlr.grd.x),minimum(parlr.grd.x), maximum(parlr.grd.x)]\n)\ntitle(L\"$-\\phi$\")\nxlabel(\"degrees\")\nylabel(\"degrees\")\ncolorbar(format=\"%.e\")\nsavefig(joinpath(savepath, \"figure2a.pdf\"), dpi=300, bbox_inches=\"tight\", pad_inches=0)", 
                    "outputs": [], 
                    "collapsed": false, 
                    "metadata": {}
                }, 
                {
                    "source": "figure2b.pdf\n-----------------------------------", 
                    "cell_type": "markdown", 
                    "metadata": {}
                }, 
                {
                    "cell_type": "code", 
                    "language": "julia", 
                    "input": "imshow(\n  divx,\n  interpolation = \"nearest\",\n  origin=\"lower\",\n  extent=(180/pi)*[minimum(parlr.grd.x), maximum(parlr.grd.x),minimum(parlr.grd.x), maximum(parlr.grd.x)]\n)\ntitle(L\"$-\\phi^{inv}$\")\nxlabel(\"degrees\")\nylabel(\"degrees\")\ncolorbar(format=\"%.e\")\nsavefig(joinpath(savepath, \"figure2b.pdf\"), dpi=300, bbox_inches=\"tight\", pad_inches=0)", 
                    "outputs": [], 
                    "collapsed": false, 
                    "metadata": {}
                }, 
                {
                    "source": "figure2c.pdf\n-----------------------------------", 
                    "cell_type": "markdown", 
                    "metadata": {}
                }, 
                {
                    "cell_type": "code", 
                    "language": "julia", 
                    "input": "imshow(\n  divx + phix[1:4:end, 1:4:end],\n  interpolation = \"nearest\",\n  origin=\"lower\",\n  extent=(180/pi)*[minimum(parlr.grd.x), maximum(parlr.grd.x),minimum(parlr.grd.x), maximum(parlr.grd.x)]\n)\ntitle(L\"$\\phi-\\phi^{inv}$\")\nxlabel(\"degrees\")\nylabel(\"degrees\")\ncolorbar(format=\"%.e\")\nsavefig(joinpath(savepath, \"figure2c.pdf\"), dpi=300, bbox_inches=\"tight\", pad_inches=0)", 
                    "outputs": [], 
                    "collapsed": false, 
                    "metadata": {}
                }, 
                {
                    "source": "figure2d.pdf\n-----------------------------------", 
                    "cell_type": "markdown", 
                    "metadata": {}
                }, 
                {
                    "cell_type": "code", 
                    "language": "julia", 
                    "input": "imshow(\n  crlx,\n  vmin = -1.2e-8, vmax = 1.2e-8,\n  interpolation = \"nearest\",\n  origin=\"lower\",\n  extent=(180/pi)*[minimum(parlr.grd.x), maximum(parlr.grd.x),minimum(parlr.grd.x), maximum(parlr.grd.x)]\n)\ntitle(L\"$-\\psi^{inv}$\")\nxlabel(\"degrees\")\nylabel(\"degrees\")\ncolorbar(format=\"%.e\")\nsavefig(joinpath(savepath, \"figure2d.pdf\"), dpi=300, bbox_inches=\"tight\", pad_inches=0)", 
                    "outputs": [], 
                    "collapsed": false, 
                    "metadata": {}
                }
            ]
        }
    ], 
    "metadata": {
        "name": ""
    }
}